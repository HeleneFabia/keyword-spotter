{
  "nbformat": 4,
  "nbformat_minor": 0,
  "metadata": {
    "accelerator": "GPU",
    "colab": {
      "name": "keyword_spotter_training.ipynb",
      "provenance": [],
      "collapsed_sections": [
        "LBgG8MTIveXJ",
        "xrS9qpWxvoa1",
        "CPqkXGbBvqkM"
      ],
      "toc_visible": true
    },
    "kernelspec": {
      "display_name": "Python 3",
      "language": "python",
      "name": "python3"
    },
    "language_info": {
      "codemirror_mode": {
        "name": "ipython",
        "version": 3
      },
      "file_extension": ".py",
      "mimetype": "text/x-python",
      "name": "python",
      "nbconvert_exporter": "python",
      "pygments_lexer": "ipython3",
      "version": "3.8.5"
    },
    "widgets": {
      "application/vnd.jupyter.widget-state+json": {
        "8e4efe6e7e3c46739c39bb6d8ec14ac7": {
          "model_module": "@jupyter-widgets/controls",
          "model_name": "HBoxModel",
          "state": {
            "_view_name": "HBoxView",
            "_dom_classes": [],
            "_model_name": "HBoxModel",
            "_view_module": "@jupyter-widgets/controls",
            "_model_module_version": "1.5.0",
            "_view_count": null,
            "_view_module_version": "1.5.0",
            "box_style": "",
            "layout": "IPY_MODEL_f8219ab160204048931c3ad25717ba92",
            "_model_module": "@jupyter-widgets/controls",
            "children": [
              "IPY_MODEL_a990b5205262448496a3160de794d8d2",
              "IPY_MODEL_5118366f404b4a959d876f0a43a9f963"
            ]
          }
        },
        "f8219ab160204048931c3ad25717ba92": {
          "model_module": "@jupyter-widgets/base",
          "model_name": "LayoutModel",
          "state": {
            "_view_name": "LayoutView",
            "grid_template_rows": null,
            "right": null,
            "justify_content": null,
            "_view_module": "@jupyter-widgets/base",
            "overflow": null,
            "_model_module_version": "1.2.0",
            "_view_count": null,
            "flex_flow": null,
            "width": null,
            "min_width": null,
            "border": null,
            "align_items": null,
            "bottom": null,
            "_model_module": "@jupyter-widgets/base",
            "top": null,
            "grid_column": null,
            "overflow_y": null,
            "overflow_x": null,
            "grid_auto_flow": null,
            "grid_area": null,
            "grid_template_columns": null,
            "flex": null,
            "_model_name": "LayoutModel",
            "justify_items": null,
            "grid_row": null,
            "max_height": null,
            "align_content": null,
            "visibility": null,
            "align_self": null,
            "height": null,
            "min_height": null,
            "padding": null,
            "grid_auto_rows": null,
            "grid_gap": null,
            "max_width": null,
            "order": null,
            "_view_module_version": "1.2.0",
            "grid_template_areas": null,
            "object_position": null,
            "object_fit": null,
            "grid_auto_columns": null,
            "margin": null,
            "display": null,
            "left": null
          }
        },
        "a990b5205262448496a3160de794d8d2": {
          "model_module": "@jupyter-widgets/controls",
          "model_name": "FloatProgressModel",
          "state": {
            "_view_name": "ProgressView",
            "style": "IPY_MODEL_b2de99237255474e93ef7530379b9a52",
            "_dom_classes": [],
            "description": "100%",
            "_model_name": "FloatProgressModel",
            "bar_style": "success",
            "max": 102502400,
            "_view_module": "@jupyter-widgets/controls",
            "_model_module_version": "1.5.0",
            "value": 102502400,
            "_view_count": null,
            "_view_module_version": "1.5.0",
            "orientation": "horizontal",
            "min": 0,
            "description_tooltip": null,
            "_model_module": "@jupyter-widgets/controls",
            "layout": "IPY_MODEL_f00a63e06134415b8d7b9b4c43de8d80"
          }
        },
        "5118366f404b4a959d876f0a43a9f963": {
          "model_module": "@jupyter-widgets/controls",
          "model_name": "HTMLModel",
          "state": {
            "_view_name": "HTMLView",
            "style": "IPY_MODEL_d82e037bd4314dae95cf49008a2804df",
            "_dom_classes": [],
            "description": "",
            "_model_name": "HTMLModel",
            "placeholder": "​",
            "_view_module": "@jupyter-widgets/controls",
            "_model_module_version": "1.5.0",
            "value": " 97.8M/97.8M [00:00&lt;00:00, 129MB/s]",
            "_view_count": null,
            "_view_module_version": "1.5.0",
            "description_tooltip": null,
            "_model_module": "@jupyter-widgets/controls",
            "layout": "IPY_MODEL_27bb63a2f73a481baf65710f3446043c"
          }
        },
        "b2de99237255474e93ef7530379b9a52": {
          "model_module": "@jupyter-widgets/controls",
          "model_name": "ProgressStyleModel",
          "state": {
            "_view_name": "StyleView",
            "_model_name": "ProgressStyleModel",
            "description_width": "initial",
            "_view_module": "@jupyter-widgets/base",
            "_model_module_version": "1.5.0",
            "_view_count": null,
            "_view_module_version": "1.2.0",
            "bar_color": null,
            "_model_module": "@jupyter-widgets/controls"
          }
        },
        "f00a63e06134415b8d7b9b4c43de8d80": {
          "model_module": "@jupyter-widgets/base",
          "model_name": "LayoutModel",
          "state": {
            "_view_name": "LayoutView",
            "grid_template_rows": null,
            "right": null,
            "justify_content": null,
            "_view_module": "@jupyter-widgets/base",
            "overflow": null,
            "_model_module_version": "1.2.0",
            "_view_count": null,
            "flex_flow": null,
            "width": null,
            "min_width": null,
            "border": null,
            "align_items": null,
            "bottom": null,
            "_model_module": "@jupyter-widgets/base",
            "top": null,
            "grid_column": null,
            "overflow_y": null,
            "overflow_x": null,
            "grid_auto_flow": null,
            "grid_area": null,
            "grid_template_columns": null,
            "flex": null,
            "_model_name": "LayoutModel",
            "justify_items": null,
            "grid_row": null,
            "max_height": null,
            "align_content": null,
            "visibility": null,
            "align_self": null,
            "height": null,
            "min_height": null,
            "padding": null,
            "grid_auto_rows": null,
            "grid_gap": null,
            "max_width": null,
            "order": null,
            "_view_module_version": "1.2.0",
            "grid_template_areas": null,
            "object_position": null,
            "object_fit": null,
            "grid_auto_columns": null,
            "margin": null,
            "display": null,
            "left": null
          }
        },
        "d82e037bd4314dae95cf49008a2804df": {
          "model_module": "@jupyter-widgets/controls",
          "model_name": "DescriptionStyleModel",
          "state": {
            "_view_name": "StyleView",
            "_model_name": "DescriptionStyleModel",
            "description_width": "",
            "_view_module": "@jupyter-widgets/base",
            "_model_module_version": "1.5.0",
            "_view_count": null,
            "_view_module_version": "1.2.0",
            "_model_module": "@jupyter-widgets/controls"
          }
        },
        "27bb63a2f73a481baf65710f3446043c": {
          "model_module": "@jupyter-widgets/base",
          "model_name": "LayoutModel",
          "state": {
            "_view_name": "LayoutView",
            "grid_template_rows": null,
            "right": null,
            "justify_content": null,
            "_view_module": "@jupyter-widgets/base",
            "overflow": null,
            "_model_module_version": "1.2.0",
            "_view_count": null,
            "flex_flow": null,
            "width": null,
            "min_width": null,
            "border": null,
            "align_items": null,
            "bottom": null,
            "_model_module": "@jupyter-widgets/base",
            "top": null,
            "grid_column": null,
            "overflow_y": null,
            "overflow_x": null,
            "grid_auto_flow": null,
            "grid_area": null,
            "grid_template_columns": null,
            "flex": null,
            "_model_name": "LayoutModel",
            "justify_items": null,
            "grid_row": null,
            "max_height": null,
            "align_content": null,
            "visibility": null,
            "align_self": null,
            "height": null,
            "min_height": null,
            "padding": null,
            "grid_auto_rows": null,
            "grid_gap": null,
            "max_width": null,
            "order": null,
            "_view_module_version": "1.2.0",
            "grid_template_areas": null,
            "object_position": null,
            "object_fit": null,
            "grid_auto_columns": null,
            "margin": null,
            "display": null,
            "left": null
          }
        }
      }
    }
  },
  "cells": [
    {
      "cell_type": "markdown",
      "metadata": {
        "id": "mgG0axwcIQzg"
      },
      "source": [
        "# Zindi Data Science Challenge: Agricultural Keyword Spotter: Training"
      ]
    },
    {
      "cell_type": "code",
      "metadata": {
        "ExecuteTime": {
          "end_time": "2020-11-25T16:42:44.106389Z",
          "start_time": "2020-11-25T16:42:38.135365Z"
        },
        "id": "l3M8RRMfGMNM"
      },
      "source": [
        "import pandas as pd\n",
        "import matplotlib.pyplot as plt\n",
        "import numpy as np\n",
        "import tifffile\n",
        "\n",
        "from sklearn.model_selection import train_test_split\n",
        "\n",
        "import torch\n",
        "from torch.utils.data import Dataset, DataLoader\n",
        "import torch.nn as nn\n",
        "import torchvision.models as models\n",
        "\n",
        "import random\n",
        "SEED_VAL = 42\n",
        "random.seed(SEED_VAL)\n",
        "np.random.seed(SEED_VAL)\n",
        "torch.manual_seed(SEED_VAL)\n",
        "torch.cuda.manual_seed_all(SEED_VAL)\n",
        "\n",
        "pd.set_option('display.max_rows', 500)\n",
        "pd.set_option('display.max_columns', 500)\n",
        "pd.set_option('display.width', 1000)"
      ],
      "execution_count": 2,
      "outputs": []
    },
    {
      "cell_type": "code",
      "metadata": {
        "colab": {
          "base_uri": "https://localhost:8080/"
        },
        "id": "qKUH3c7zWNUz",
        "outputId": "856ec75e-6a5c-4eea-cd52-daf52dc23abd"
      },
      "source": [
        "if torch.cuda.is_available():\n",
        "    device = torch.device('cuda')\n",
        "else:\n",
        "    device = torch.device('cpu')\n",
        "print(device)"
      ],
      "execution_count": 4,
      "outputs": [
        {
          "output_type": "stream",
          "text": [
            "cuda\n"
          ],
          "name": "stdout"
        }
      ]
    },
    {
      "cell_type": "code",
      "metadata": {
        "id": "arng6GPxLVDN"
      },
      "source": [
        "from google.colab import drive\n",
        "drive.mount('/content/drive')"
      ],
      "execution_count": null,
      "outputs": []
    },
    {
      "cell_type": "code",
      "metadata": {
        "ExecuteTime": {
          "end_time": "2020-11-25T16:44:46.637150Z",
          "start_time": "2020-11-25T16:44:46.597591Z"
        },
        "id": "VQtja3CiIQzg"
      },
      "source": [
        "import sys  \n",
        "sys.path.insert(0, './utils')\n",
        "\n",
        "from preprocess import *\n",
        "from training import *"
      ],
      "execution_count": null,
      "outputs": []
    },
    {
      "cell_type": "markdown",
      "metadata": {
        "id": "M9uHLodDIhU8"
      },
      "source": [
        "## Building the Dataset"
      ]
    },
    {
      "cell_type": "markdown",
      "metadata": {
        "id": "HxHPAXABIQzi"
      },
      "source": [
        "First, I import the CSV file I have saved, containing the names of every audio file and correpsonding label and TIF image."
      ]
    },
    {
      "cell_type": "code",
      "metadata": {
        "ExecuteTime": {
          "end_time": "2020-11-25T16:44:50.136225Z",
          "start_time": "2020-11-25T16:44:50.051267Z"
        },
        "id": "A0CLtJb2GnLK"
      },
      "source": [
        "train_paths = pd.read_csv('train_paths.csv').drop(columns=['Unnamed: 0'])"
      ],
      "execution_count": 11,
      "outputs": []
    },
    {
      "cell_type": "code",
      "metadata": {
        "ExecuteTime": {
          "end_time": "2020-11-25T16:44:50.560347Z",
          "start_time": "2020-11-25T16:44:50.499446Z"
        },
        "colab": {
          "base_uri": "https://localhost:8080/",
          "height": 204
        },
        "id": "r6YZXQRlHPgz",
        "scrolled": true,
        "outputId": "8b97f388-95be-4612-acf5-7a156c348181"
      },
      "source": [
        "train_paths.sample(5)"
      ],
      "execution_count": 12,
      "outputs": [
        {
          "output_type": "execute_result",
          "data": {
            "text/html": [
              "<div>\n",
              "<style scoped>\n",
              "    .dataframe tbody tr th:only-of-type {\n",
              "        vertical-align: middle;\n",
              "    }\n",
              "\n",
              "    .dataframe tbody tr th {\n",
              "        vertical-align: top;\n",
              "    }\n",
              "\n",
              "    .dataframe thead th {\n",
              "        text-align: right;\n",
              "    }\n",
              "</style>\n",
              "<table border=\"1\" class=\"dataframe\">\n",
              "  <thead>\n",
              "    <tr style=\"text-align: right;\">\n",
              "      <th></th>\n",
              "      <th>fn</th>\n",
              "      <th>image</th>\n",
              "      <th>label</th>\n",
              "      <th>label_num</th>\n",
              "    </tr>\n",
              "  </thead>\n",
              "  <tbody>\n",
              "    <tr>\n",
              "      <th>1210</th>\n",
              "      <td>./nlp_keywords/ebisooli/d027264654b94950aeb204...</td>\n",
              "      <td>d027264654b94950aeb204f64d05d8d7_ff223fec3f304...</td>\n",
              "      <td>ebisooli</td>\n",
              "      <td>116</td>\n",
              "    </tr>\n",
              "    <tr>\n",
              "      <th>1729</th>\n",
              "      <td>./nlp_keywords/okusimba/d027264654b94950aeb204...</td>\n",
              "      <td>d027264654b94950aeb204f64d05d8d7_7e2741dcaed34...</td>\n",
              "      <td>okusimba</td>\n",
              "      <td>146</td>\n",
              "    </tr>\n",
              "    <tr>\n",
              "      <th>3321</th>\n",
              "      <td>./latest_keywords/nnimiro/eb702740d41f4f389192...</td>\n",
              "      <td>eb702740d41f4f389192ec5c6a3ae95f_e0f8397388b94...</td>\n",
              "      <td>nnimiro</td>\n",
              "      <td>73</td>\n",
              "    </tr>\n",
              "    <tr>\n",
              "      <th>3722</th>\n",
              "      <td>./latest_keywords/ekikajjo/771b5044334242fb9ca...</td>\n",
              "      <td>771b5044334242fb9caff8a71fd7891e_8006801f701e4...</td>\n",
              "      <td>ekikajjo</td>\n",
              "      <td>86</td>\n",
              "    </tr>\n",
              "    <tr>\n",
              "      <th>3752</th>\n",
              "      <td>./latest_keywords/ebigimusa/3d43af6faf2244c288...</td>\n",
              "      <td>3d43af6faf2244c288154dc4ff6a734f_8b843bfe8a804...</td>\n",
              "      <td>ebigimusa</td>\n",
              "      <td>11</td>\n",
              "    </tr>\n",
              "  </tbody>\n",
              "</table>\n",
              "</div>"
            ],
            "text/plain": [
              "                                                     fn                                              image      label  label_num\n",
              "1210  ./nlp_keywords/ebisooli/d027264654b94950aeb204...  d027264654b94950aeb204f64d05d8d7_ff223fec3f304...   ebisooli        116\n",
              "1729  ./nlp_keywords/okusimba/d027264654b94950aeb204...  d027264654b94950aeb204f64d05d8d7_7e2741dcaed34...   okusimba        146\n",
              "3321  ./latest_keywords/nnimiro/eb702740d41f4f389192...  eb702740d41f4f389192ec5c6a3ae95f_e0f8397388b94...    nnimiro         73\n",
              "3722  ./latest_keywords/ekikajjo/771b5044334242fb9ca...  771b5044334242fb9caff8a71fd7891e_8006801f701e4...   ekikajjo         86\n",
              "3752  ./latest_keywords/ebigimusa/3d43af6faf2244c288...  3d43af6faf2244c288154dc4ff6a734f_8b843bfe8a804...  ebigimusa         11"
            ]
          },
          "metadata": {
            "tags": []
          },
          "execution_count": 12
        }
      ]
    },
    {
      "cell_type": "markdown",
      "metadata": {
        "id": "cyGtWmwcIQzi"
      },
      "source": [
        "Next, I split the examples into training and validation set and make sure, that the classes are equally distributed in both sets, given how few examples many classes have."
      ]
    },
    {
      "cell_type": "code",
      "metadata": {
        "ExecuteTime": {
          "end_time": "2020-11-25T16:44:53.004806Z",
          "start_time": "2020-11-25T16:44:52.985135Z"
        },
        "id": "v2q3xYSzH0w4"
      },
      "source": [
        "X_train, X_val, y_train, y_val = train_test_split(train_paths['image'], train_paths['label_num'], stratify=train_paths['label_num'], test_size=0.2, random_state=SEED_VAL)"
      ],
      "execution_count": 23,
      "outputs": []
    },
    {
      "cell_type": "markdown",
      "metadata": {
        "id": "IQCINKiaIQzj"
      },
      "source": [
        "Finally, I create a training Dataset (which includes data augmentation with SpecAugment) and a validation Dataset ."
      ]
    },
    {
      "cell_type": "code",
      "metadata": {
        "ExecuteTime": {
          "end_time": "2020-11-25T16:44:55.541556Z",
          "start_time": "2020-11-25T16:44:55.537770Z"
        },
        "id": "ThM27IrVIKwa"
      },
      "source": [
        "train_ds = Spectrogram_Dataset_Augmentation(X_train.values, y_train.values, augment=True)\n",
        "val_ds = Spectrogram_Dataset_Augmentation(X_val.values, y_val.values, augment=False)"
      ],
      "execution_count": 24,
      "outputs": []
    },
    {
      "cell_type": "markdown",
      "metadata": {
        "id": "TBuVsO4GYti6"
      },
      "source": [
        "## Training"
      ]
    },
    {
      "cell_type": "markdown",
      "metadata": {
        "id": "HLBw4sgaIQzj"
      },
      "source": [
        "After doing some research about using CNNs for audio classification, I saw that using a transfer learning approach with CNNs pretrained on ImageNet works quite well for mel spectrograms (see, for example, https://medium.com/@krishna_84429/audio-classification-using-transfer-learning-approach-912e6f7397bb and https://arxiv.org/pdf/2007.11154.pdf). \n",
        "\n",
        "After some experiments involving multiple pretrained models in torchvision, using `densenet161`, `resnet50`, and  `googlenet` yielded the best validation performance. In order to perform transfer learning with them, I removed the last linear layer of all three models and replaced it with a new one which had an output dimension of 193 (i.e. the number of unique classes in this challenge).\n",
        "\n",
        "The plan is to ensemble those three models in order to improve the model's ability to generalize."
      ]
    },
    {
      "cell_type": "markdown",
      "metadata": {
        "id": "LBgG8MTIveXJ"
      },
      "source": [
        "### Densenet"
      ]
    },
    {
      "cell_type": "code",
      "metadata": {
        "id": "ixQoeEMoIQzk"
      },
      "source": [
        "densenet = models.densenet161(pretrained=True)\n",
        "num_ftrs = densenet.classifier.in_features\n",
        "densenet.classifier = nn.Linear(num_ftrs, 193)\n",
        "densenet = densenet.to(device)"
      ],
      "execution_count": 27,
      "outputs": []
    },
    {
      "cell_type": "code",
      "metadata": {
        "colab": {
          "base_uri": "https://localhost:8080/",
          "height": 1000
        },
        "id": "qHay9qAM3SLV",
        "outputId": "7585fac6-3319-4308-cf7d-e4ee77ec41fd"
      },
      "source": [
        "train_epoch_loss, valid_epoch_loss, acc_epoch = train_model_finetuning(densenet, 'densenet', train_ds, val_ds, batch_size=128, num_epochs=100, device=device, save_model=True, early_stopping_patience=8)"
      ],
      "execution_count": 28,
      "outputs": [
        {
          "output_type": "stream",
          "text": [
            "Ep: 1/100 | Train Loss: 5.0285 | Val Loss: 6.4820 | Val Acc: 0.0212\n",
            "Validation accuracy has improved from 0.0000 to 0.0212. Saving model...\n",
            "Ep: 2/100 | Train Loss: 4.0494 | Val Loss: 3.6722 | Val Acc: 0.1614\n",
            "Validation accuracy has improved from 0.0212 to 0.1614. Saving model...\n",
            "Ep: 3/100 | Train Loss: 2.9732 | Val Loss: 3.1951 | Val Acc: 0.2357\n",
            "Validation accuracy has improved from 0.1614 to 0.2357. Saving model...\n",
            "Ep: 4/100 | Train Loss: 2.2932 | Val Loss: 2.9537 | Val Acc: 0.2845\n",
            "Validation accuracy has improved from 0.2357 to 0.2845. Saving model...\n",
            "Ep: 5/100 | Train Loss: 1.9057 | Val Loss: 2.7832 | Val Acc: 0.3195\n",
            "Validation accuracy has improved from 0.2845 to 0.3195. Saving model...\n",
            "Ep: 6/100 | Train Loss: 1.6999 | Val Loss: 1.7661 | Val Acc: 0.5340\n",
            "Validation accuracy has improved from 0.3195 to 0.5340. Saving model...\n",
            "Ep: 7/100 | Train Loss: 1.5419 | Val Loss: 1.3766 | Val Acc: 0.6316\n",
            "Validation accuracy has improved from 0.5340 to 0.6316. Saving model...\n",
            "Ep: 8/100 | Train Loss: 1.3825 | Val Loss: 1.7776 | Val Acc: 0.5807\n",
            "Ep: 9/100 | Train Loss: 1.2681 | Val Loss: 1.2536 | Val Acc: 0.6837\n",
            "Validation accuracy has improved from 0.6316 to 0.6837. Saving model...\n",
            "Ep: 10/100 | Train Loss: 1.2297 | Val Loss: 1.1468 | Val Acc: 0.7197\n",
            "Validation accuracy has improved from 0.6837 to 0.7197. Saving model...\n",
            "Ep: 11/100 | Train Loss: 1.1615 | Val Loss: 1.3111 | Val Acc: 0.6868\n",
            "Ep: 12/100 | Train Loss: 1.1230 | Val Loss: 1.5444 | Val Acc: 0.6327\n",
            "Ep: 13/100 | Train Loss: 1.1052 | Val Loss: 1.8701 | Val Acc: 0.5966\n",
            "Ep: 14/100 | Train Loss: 1.0331 | Val Loss: 1.1553 | Val Acc: 0.7420\n",
            "Validation accuracy has improved from 0.7197 to 0.7420. Saving model...\n",
            "Ep: 15/100 | Train Loss: 1.0068 | Val Loss: 1.0572 | Val Acc: 0.7442\n",
            "Validation accuracy has improved from 0.7420 to 0.7442. Saving model...\n",
            "Ep: 16/100 | Train Loss: 1.0058 | Val Loss: 1.2006 | Val Acc: 0.7208\n",
            "Ep: 17/100 | Train Loss: 1.0018 | Val Loss: 1.2114 | Val Acc: 0.7102\n",
            "Ep: 18/100 | Train Loss: 0.9615 | Val Loss: 1.3615 | Val Acc: 0.6964\n",
            "Epoch    19: reducing learning rate of group 0 to 5.0000e-04.\n",
            "Ep: 19/100 | Train Loss: 0.9215 | Val Loss: 1.2039 | Val Acc: 0.7399\n",
            "Ep: 20/100 | Train Loss: 0.8720 | Val Loss: 0.8933 | Val Acc: 0.7994\n",
            "Validation accuracy has improved from 0.7442 to 0.7994. Saving model...\n",
            "Ep: 21/100 | Train Loss: 0.7960 | Val Loss: 0.8166 | Val Acc: 0.8312\n",
            "Validation accuracy has improved from 0.7994 to 0.8312. Saving model...\n",
            "Ep: 22/100 | Train Loss: 0.7646 | Val Loss: 0.8588 | Val Acc: 0.8333\n",
            "Validation accuracy has improved from 0.8312 to 0.8333. Saving model...\n",
            "Ep: 23/100 | Train Loss: 0.7482 | Val Loss: 0.8959 | Val Acc: 0.8153\n",
            "Ep: 24/100 | Train Loss: 0.7513 | Val Loss: 0.9181 | Val Acc: 0.8185\n",
            "Ep: 25/100 | Train Loss: 0.7489 | Val Loss: 0.8829 | Val Acc: 0.8238\n",
            "Epoch    26: reducing learning rate of group 0 to 2.5000e-04.\n",
            "Ep: 26/100 | Train Loss: 0.7303 | Val Loss: 0.9994 | Val Acc: 0.8174\n",
            "Ep: 27/100 | Train Loss: 0.6989 | Val Loss: 0.8644 | Val Acc: 0.8248\n",
            "Ep: 28/100 | Train Loss: 0.6436 | Val Loss: 0.8436 | Val Acc: 0.8280\n",
            "Ep: 29/100 | Train Loss: 0.6168 | Val Loss: 0.9023 | Val Acc: 0.8217\n",
            "Ep: 30/100 | Train Loss: 0.6216 | Val Loss: 0.8369 | Val Acc: 0.8355\n",
            "Validation accuracy has improved from 0.8333 to 0.8355. Saving model...\n",
            "Ep: 31/100 | Train Loss: 0.6230 | Val Loss: 0.8570 | Val Acc: 0.8333\n",
            "Ep: 32/100 | Train Loss: 0.5895 | Val Loss: 0.9453 | Val Acc: 0.7898\n",
            "Ep: 33/100 | Train Loss: 0.5788 | Val Loss: 0.8526 | Val Acc: 0.8270\n",
            "Epoch    34: reducing learning rate of group 0 to 1.2500e-04.\n",
            "Ep: 34/100 | Train Loss: 0.5679 | Val Loss: 0.8489 | Val Acc: 0.8185\n",
            "Ep: 35/100 | Train Loss: 0.5262 | Val Loss: 0.8058 | Val Acc: 0.8355\n",
            "Validation accuracy has improved from 0.8355 to 0.8355. Saving model...\n",
            "Ep: 36/100 | Train Loss: 0.4892 | Val Loss: 0.8495 | Val Acc: 0.8195\n",
            "Ep: 37/100 | Train Loss: 0.4899 | Val Loss: 0.8079 | Val Acc: 0.8312\n",
            "Epoch    38: reducing learning rate of group 0 to 6.2500e-05.\n",
            "Ep: 38/100 | Train Loss: 0.4627 | Val Loss: 0.8250 | Val Acc: 0.8217\n",
            "Ep: 39/100 | Train Loss: 0.4479 | Val Loss: 0.7781 | Val Acc: 0.8312\n",
            "Ep: 40/100 | Train Loss: 0.4256 | Val Loss: 0.8086 | Val Acc: 0.8323\n",
            "Ep: 41/100 | Train Loss: 0.3943 | Val Loss: 0.7933 | Val Acc: 0.8323\n",
            "Epoch    42: reducing learning rate of group 0 to 3.1250e-05.\n",
            "Ep: 42/100 | Train Loss: 0.3754 | Val Loss: 0.7981 | Val Acc: 0.8312\n",
            "Ep: 43/100 | Train Loss: 0.3711 | Val Loss: 0.7853 | Val Acc: 0.8333\n",
            "Early Stopping\n",
            "Best Validation Accuracy: 0.8355\n"
          ],
          "name": "stdout"
        },
        {
          "output_type": "display_data",
          "data": {
            "image/png": "[encoded data removed]",
            "text/plain": [
              "<Figure size 432x288 with 1 Axes>"
            ]
          },
          "metadata": {
            "tags": [],
            "needs_background": "light"
          }
        }
      ]
    },
    {
      "cell_type": "markdown",
      "metadata": {
        "id": "CPqkXGbBvqkM"
      },
      "source": [
        "### Resnet"
      ]
    },
    {
      "cell_type": "code",
      "metadata": {
        "id": "4Mj3mgEfO-gk",
        "colab": {
          "base_uri": "https://localhost:8080/",
          "height": 83,
          "referenced_widgets": [
            "8e4efe6e7e3c46739c39bb6d8ec14ac7",
            "f8219ab160204048931c3ad25717ba92",
            "a990b5205262448496a3160de794d8d2",
            "5118366f404b4a959d876f0a43a9f963",
            "b2de99237255474e93ef7530379b9a52",
            "f00a63e06134415b8d7b9b4c43de8d80",
            "d82e037bd4314dae95cf49008a2804df",
            "27bb63a2f73a481baf65710f3446043c"
          ]
        },
        "outputId": "af494378-30c9-4d2c-f46a-4f79577e397b"
      },
      "source": [
        "resnet = models.resnet50(pretrained=True)\n",
        "num_ftrs = resnet.fc.in_features\n",
        "resnet.fc = nn.Linear(num_ftrs, 193)\n",
        "resnet = resnet.to(device)"
      ],
      "execution_count": 29,
      "outputs": [
        {
          "output_type": "stream",
          "text": [
            "Downloading: \"https://download.pytorch.org/models/resnet50-19c8e357.pth\" to /root/.cache/torch/hub/checkpoints/resnet50-19c8e357.pth\n"
          ],
          "name": "stderr"
        },
        {
          "output_type": "display_data",
          "data": {
            "application/vnd.jupyter.widget-view+json": {
              "model_id": "8e4efe6e7e3c46739c39bb6d8ec14ac7",
              "version_minor": 0,
              "version_major": 2
            },
            "text/plain": [
              "HBox(children=(FloatProgress(value=0.0, max=102502400.0), HTML(value='')))"
            ]
          },
          "metadata": {
            "tags": []
          }
        },
        {
          "output_type": "stream",
          "text": [
            "\n"
          ],
          "name": "stdout"
        }
      ]
    },
    {
      "cell_type": "code",
      "metadata": {
        "colab": {
          "base_uri": "https://localhost:8080/",
          "height": 1000
        },
        "id": "gqmgzTVzvvvZ",
        "scrolled": false,
        "outputId": "75d359ed-d0c8-470f-a91f-ffb7fcd4e10a"
      },
      "source": [
        "train_epoch_loss, valid_epoch_loss, acc_epoch = train_model_finetuning(resnet, 'resnet', train_ds, val_ds, batch_size=128, num_epochs=100, device=device, save_model=True, early_stopping_patience=8)"
      ],
      "execution_count": 30,
      "outputs": [
        {
          "output_type": "stream",
          "text": [
            "Ep: 1/100 | Train Loss: 5.1883 | Val Loss: 5.1757 | Val Acc: 0.0127\n",
            "Validation accuracy has improved from 0.0000 to 0.0127. Saving model...\n",
            "Ep: 2/100 | Train Loss: 4.8179 | Val Loss: 8.8175 | Val Acc: 0.0223\n",
            "Validation accuracy has improved from 0.0127 to 0.0223. Saving model...\n",
            "Ep: 3/100 | Train Loss: 4.3742 | Val Loss: 7.4980 | Val Acc: 0.0159\n",
            "Ep: 4/100 | Train Loss: 3.8957 | Val Loss: 5.0987 | Val Acc: 0.0807\n",
            "Validation accuracy has improved from 0.0223 to 0.0807. Saving model...\n",
            "Ep: 5/100 | Train Loss: 3.4262 | Val Loss: 3.5351 | Val Acc: 0.1263\n",
            "Validation accuracy has improved from 0.0807 to 0.1263. Saving model...\n",
            "Ep: 6/100 | Train Loss: 3.0518 | Val Loss: 3.5650 | Val Acc: 0.1815\n",
            "Validation accuracy has improved from 0.1263 to 0.1815. Saving model...\n",
            "Ep: 7/100 | Train Loss: 2.7036 | Val Loss: 2.9449 | Val Acc: 0.2569\n",
            "Validation accuracy has improved from 0.1815 to 0.2569. Saving model...\n",
            "Ep: 8/100 | Train Loss: 2.4078 | Val Loss: 2.8338 | Val Acc: 0.2527\n",
            "Ep: 9/100 | Train Loss: 2.1795 | Val Loss: 2.3563 | Val Acc: 0.3854\n",
            "Validation accuracy has improved from 0.2569 to 0.3854. Saving model...\n",
            "Ep: 10/100 | Train Loss: 1.9134 | Val Loss: 2.4154 | Val Acc: 0.3758\n",
            "Ep: 11/100 | Train Loss: 1.7319 | Val Loss: 1.6501 | Val Acc: 0.5541\n",
            "Validation accuracy has improved from 0.3854 to 0.5541. Saving model...\n",
            "Ep: 12/100 | Train Loss: 1.6287 | Val Loss: 2.1972 | Val Acc: 0.4193\n",
            "Ep: 13/100 | Train Loss: 1.4817 | Val Loss: 1.9386 | Val Acc: 0.5032\n",
            "Ep: 14/100 | Train Loss: 1.4073 | Val Loss: 2.5102 | Val Acc: 0.4406\n",
            "Epoch    15: reducing learning rate of group 0 to 5.0000e-04.\n",
            "Ep: 15/100 | Train Loss: 1.3325 | Val Loss: 2.2266 | Val Acc: 0.5149\n",
            "Ep: 16/100 | Train Loss: 1.1385 | Val Loss: 1.2897 | Val Acc: 0.6847\n",
            "Validation accuracy has improved from 0.5541 to 0.6847. Saving model...\n",
            "Ep: 17/100 | Train Loss: 1.0115 | Val Loss: 1.2619 | Val Acc: 0.6858\n",
            "Validation accuracy has improved from 0.6847 to 0.6858. Saving model...\n",
            "Ep: 18/100 | Train Loss: 0.9454 | Val Loss: 1.2286 | Val Acc: 0.6996\n",
            "Validation accuracy has improved from 0.6858 to 0.6996. Saving model...\n",
            "Ep: 19/100 | Train Loss: 0.9357 | Val Loss: 1.3722 | Val Acc: 0.6762\n",
            "Ep: 20/100 | Train Loss: 0.9120 | Val Loss: 1.3746 | Val Acc: 0.6773\n",
            "Ep: 21/100 | Train Loss: 0.8896 | Val Loss: 1.4473 | Val Acc: 0.6667\n",
            "Epoch    22: reducing learning rate of group 0 to 2.5000e-04.\n",
            "Ep: 22/100 | Train Loss: 0.8612 | Val Loss: 1.5762 | Val Acc: 0.6274\n",
            "Ep: 23/100 | Train Loss: 0.8264 | Val Loss: 1.2501 | Val Acc: 0.7251\n",
            "Validation accuracy has improved from 0.6996 to 0.7251. Saving model...\n",
            "Ep: 24/100 | Train Loss: 0.7952 | Val Loss: 1.2520 | Val Acc: 0.7049\n",
            "Ep: 25/100 | Train Loss: 0.7677 | Val Loss: 1.2358 | Val Acc: 0.7038\n",
            "Ep: 26/100 | Train Loss: 0.7388 | Val Loss: 1.2416 | Val Acc: 0.7197\n",
            "Epoch    27: reducing learning rate of group 0 to 1.2500e-04.\n",
            "Ep: 27/100 | Train Loss: 0.7238 | Val Loss: 1.3453 | Val Acc: 0.6752\n",
            "Ep: 28/100 | Train Loss: 0.7128 | Val Loss: 1.2443 | Val Acc: 0.7049\n",
            "Ep: 29/100 | Train Loss: 0.6843 | Val Loss: 1.2637 | Val Acc: 0.7123\n",
            "Ep: 30/100 | Train Loss: 0.6575 | Val Loss: 1.2667 | Val Acc: 0.7166\n",
            "Epoch    31: reducing learning rate of group 0 to 6.2500e-05.\n",
            "Ep: 31/100 | Train Loss: 0.6685 | Val Loss: 1.2414 | Val Acc: 0.7123\n",
            "Early Stopping\n",
            "Best Validation Accuracy: 0.7251\n"
          ],
          "name": "stdout"
        },
        {
          "output_type": "display_data",
          "data": {
            "image/png": "[encoded data removed]",
            "text/plain": [
              "<Figure size 432x288 with 1 Axes>"
            ]
          },
          "metadata": {
            "tags": [],
            "needs_background": "light"
          }
        }
      ]
    },
    {
      "cell_type": "markdown",
      "metadata": {
        "id": "l1VdDd0g4hwc"
      },
      "source": [
        "### GoogLeNet"
      ]
    },
    {
      "cell_type": "code",
      "metadata": {
        "id": "gB5DHo4ewEet"
      },
      "source": [
        "googlenet = models.googlenet(pretrained=True)\n",
        "num_ftrs = googlenet.fc.in_features\n",
        "googlenet.fc = nn.Linear(num_ftrs, 193)\n",
        "googlenet = googlenet.to(device)"
      ],
      "execution_count": 33,
      "outputs": []
    },
    {
      "cell_type": "code",
      "metadata": {
        "colab": {
          "base_uri": "https://localhost:8080/",
          "height": 1000
        },
        "id": "ugFdrqWK4pXZ",
        "outputId": "3505a6c0-b1df-46bc-92c1-e8ef3d22375d"
      },
      "source": [
        "train_epoch_loss, valid_epoch_loss, acc_epoch = train_model_finetuning(googlenet, 'googlenet', train_ds, val_ds, batch_size=128, num_epochs=100, device=device, save_model=True, early_stopping_patience=8)"
      ],
      "execution_count": 34,
      "outputs": [
        {
          "output_type": "stream",
          "text": [
            "Ep: 1/100 | Train Loss: 5.0259 | Val Loss: 4.6311 | Val Acc: 0.0456\n",
            "Validation accuracy has improved from 0.0000 to 0.0456. Saving model...\n",
            "Ep: 2/100 | Train Loss: 3.8988 | Val Loss: 3.0630 | Val Acc: 0.2622\n",
            "Validation accuracy has improved from 0.0456 to 0.2622. Saving model...\n",
            "Ep: 3/100 | Train Loss: 2.8262 | Val Loss: 2.7685 | Val Acc: 0.2803\n",
            "Validation accuracy has improved from 0.2622 to 0.2803. Saving model...\n",
            "Ep: 4/100 | Train Loss: 2.2514 | Val Loss: 1.9057 | Val Acc: 0.5021\n",
            "Validation accuracy has improved from 0.2803 to 0.5021. Saving model...\n",
            "Ep: 5/100 | Train Loss: 1.8876 | Val Loss: 2.1355 | Val Acc: 0.4469\n",
            "Ep: 6/100 | Train Loss: 1.6733 | Val Loss: 1.6179 | Val Acc: 0.5711\n",
            "Validation accuracy has improved from 0.5021 to 0.5711. Saving model...\n",
            "Ep: 7/100 | Train Loss: 1.5068 | Val Loss: 1.5447 | Val Acc: 0.5902\n",
            "Validation accuracy has improved from 0.5711 to 0.5902. Saving model...\n",
            "Ep: 8/100 | Train Loss: 1.3949 | Val Loss: 1.6352 | Val Acc: 0.5616\n",
            "Ep: 9/100 | Train Loss: 1.3155 | Val Loss: 1.5006 | Val Acc: 0.6401\n",
            "Validation accuracy has improved from 0.5902 to 0.6401. Saving model...\n",
            "Ep: 10/100 | Train Loss: 1.2277 | Val Loss: 1.3241 | Val Acc: 0.6253\n",
            "Ep: 11/100 | Train Loss: 1.1839 | Val Loss: 1.3564 | Val Acc: 0.6603\n",
            "Validation accuracy has improved from 0.6401 to 0.6603. Saving model...\n",
            "Ep: 12/100 | Train Loss: 1.1555 | Val Loss: 1.2566 | Val Acc: 0.6794\n",
            "Validation accuracy has improved from 0.6603 to 0.6794. Saving model...\n",
            "Ep: 13/100 | Train Loss: 1.0883 | Val Loss: 1.4556 | Val Acc: 0.6529\n",
            "Ep: 14/100 | Train Loss: 1.0818 | Val Loss: 1.5799 | Val Acc: 0.6253\n",
            "Ep: 15/100 | Train Loss: 1.0546 | Val Loss: 1.3103 | Val Acc: 0.7049\n",
            "Validation accuracy has improved from 0.6794 to 0.7049. Saving model...\n",
            "Ep: 16/100 | Train Loss: 0.9995 | Val Loss: 1.2785 | Val Acc: 0.7017\n",
            "Ep: 17/100 | Train Loss: 0.9920 | Val Loss: 1.2997 | Val Acc: 0.6921\n",
            "Ep: 18/100 | Train Loss: 0.9651 | Val Loss: 1.2735 | Val Acc: 0.6953\n",
            "Epoch    19: reducing learning rate of group 0 to 5.0000e-04.\n",
            "Ep: 19/100 | Train Loss: 0.9592 | Val Loss: 1.7152 | Val Acc: 0.5754\n",
            "Ep: 20/100 | Train Loss: 0.8877 | Val Loss: 1.0219 | Val Acc: 0.7675\n",
            "Validation accuracy has improved from 0.7049 to 0.7675. Saving model...\n",
            "Ep: 21/100 | Train Loss: 0.8407 | Val Loss: 1.1013 | Val Acc: 0.7325\n",
            "Ep: 22/100 | Train Loss: 0.8281 | Val Loss: 1.1154 | Val Acc: 0.7420\n",
            "Ep: 23/100 | Train Loss: 0.8063 | Val Loss: 1.0068 | Val Acc: 0.7739\n",
            "Validation accuracy has improved from 0.7675 to 0.7739. Saving model...\n",
            "Ep: 24/100 | Train Loss: 0.7708 | Val Loss: 1.1040 | Val Acc: 0.7569\n",
            "Ep: 25/100 | Train Loss: 0.7759 | Val Loss: 1.0670 | Val Acc: 0.7558\n",
            "Ep: 26/100 | Train Loss: 0.7593 | Val Loss: 1.0791 | Val Acc: 0.7569\n",
            "Epoch    27: reducing learning rate of group 0 to 2.5000e-04.\n",
            "Ep: 27/100 | Train Loss: 0.7218 | Val Loss: 1.1170 | Val Acc: 0.7442\n",
            "Ep: 28/100 | Train Loss: 0.6937 | Val Loss: 0.9497 | Val Acc: 0.7856\n",
            "Validation accuracy has improved from 0.7739 to 0.7856. Saving model...\n",
            "Ep: 29/100 | Train Loss: 0.6548 | Val Loss: 0.9788 | Val Acc: 0.7887\n",
            "Validation accuracy has improved from 0.7856 to 0.7887. Saving model...\n",
            "Ep: 30/100 | Train Loss: 0.6475 | Val Loss: 1.0060 | Val Acc: 0.7834\n",
            "Ep: 31/100 | Train Loss: 0.6300 | Val Loss: 1.0153 | Val Acc: 0.7760\n",
            "Ep: 32/100 | Train Loss: 0.6111 | Val Loss: 1.0135 | Val Acc: 0.7898\n",
            "Validation accuracy has improved from 0.7887 to 0.7898. Saving model...\n",
            "Ep: 33/100 | Train Loss: 0.5678 | Val Loss: 1.0231 | Val Acc: 0.7824\n",
            "Ep: 34/100 | Train Loss: 0.5668 | Val Loss: 1.0454 | Val Acc: 0.7675\n",
            "Ep: 35/100 | Train Loss: 0.5615 | Val Loss: 1.0418 | Val Acc: 0.7601\n",
            "Epoch    36: reducing learning rate of group 0 to 1.2500e-04.\n",
            "Ep: 36/100 | Train Loss: 0.5319 | Val Loss: 1.0271 | Val Acc: 0.7824\n",
            "Ep: 37/100 | Train Loss: 0.5083 | Val Loss: 0.9729 | Val Acc: 0.7824\n",
            "Ep: 38/100 | Train Loss: 0.4831 | Val Loss: 0.9610 | Val Acc: 0.7696\n",
            "Ep: 39/100 | Train Loss: 0.4460 | Val Loss: 0.9975 | Val Acc: 0.7728\n",
            "Epoch    40: reducing learning rate of group 0 to 6.2500e-05.\n",
            "Ep: 40/100 | Train Loss: 0.4432 | Val Loss: 0.9743 | Val Acc: 0.7824\n",
            "Early Stopping\n",
            "Best Validation Accuracy: 0.7898\n"
          ],
          "name": "stdout"
        },
        {
          "output_type": "display_data",
          "data": {
            "image/png": "[encoded data removed]",
            "text/plain": [
              "<Figure size 432x288 with 1 Axes>"
            ]
          },
          "metadata": {
            "tags": [],
            "needs_background": "light"
          }
        }
      ]
    }
  ]
}